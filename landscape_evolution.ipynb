{
 "cells": [
  {
   "cell_type": "markdown",
   "metadata": {},
   "source": [
    "# Hello World!"
   ]
  },
  {
   "cell_type": "markdown",
   "metadata": {},
   "source": [
    "Let's start programming in Python! \n",
    "We will start with a very simple snippet of Python code. \n",
    "Write a **print statement** that will output the text \"Hello World!\""
   ]
  },
  {
   "cell_type": "code",
   "execution_count": 1,
   "metadata": {
    "scrolled": true
   },
   "outputs": [
    {
     "name": "stdout",
     "output_type": "stream",
     "text": [
      "Hello World!\n"
     ]
    }
   ],
   "source": [
    "print \"Hello World!\""
   ]
  },
  {
   "cell_type": "markdown",
   "metadata": {},
   "source": [
    "Now let's introduce ourselves. \n",
    "What is your name? \n",
    "Let's save it as a variable before printing it.\n",
    "First we create a new variable called `myName`\n",
    "and then assign it a value with a text **string**. \n",
    "Type your name with double quotes around it. "
   ]
  },
  {
   "cell_type": "code",
   "execution_count": 2,
   "metadata": {},
   "outputs": [
    {
     "name": "stdout",
     "output_type": "stream",
     "text": [
      "Anonymous\n"
     ]
    }
   ],
   "source": [
    "myName = \"Anonymous\"\n",
    "print myName"
   ]
  },
  {
   "cell_type": "markdown",
   "metadata": {},
   "source": [
    "Let's be more polite and introduce ourselves properly.\n",
    "Use the plus sign to concatenate the string \"Hello World, my name is \" with the variable myName."
   ]
  },
  {
   "cell_type": "code",
   "execution_count": 5,
   "metadata": {},
   "outputs": [
    {
     "name": "stdout",
     "output_type": "stream",
     "text": [
      "Hello World, my name is Anonymous.\n"
     ]
    }
   ],
   "source": [
    "print \"Hello World, my name is \" + myName + \".\""
   ]
  },
  {
   "cell_type": "markdown",
   "metadata": {},
   "source": [
    "Now we will use the **string formatting** method\n",
    "to insert a variable into a string. "
   ]
  },
  {
   "cell_type": "code",
   "execution_count": 9,
   "metadata": {},
   "outputs": [
    {
     "name": "stdout",
     "output_type": "stream",
     "text": [
      "Hello Anonymous, this is the World!\n"
     ]
    }
   ],
   "source": [
    "print \"Hello {name}, this is the World!\".format(name=myName)"
   ]
  },
  {
   "cell_type": "markdown",
   "metadata": {},
   "source": [
    "Are you feeling too lazy for a proper conversation? Let's just use a random text generator. That's easier than making small talk about the weather... First import the *lorem* package. Then use the sentence, paragraph, or text methods to generate text."
   ]
  },
  {
   "cell_type": "code",
   "execution_count": 5,
   "metadata": {},
   "outputs": [
    {
     "name": "stdout",
     "output_type": "stream",
     "text": [
      "Aliquam porro etincidunt eius voluptatem.\n"
     ]
    }
   ],
   "source": [
    "import lorem\n",
    "\n",
    "s = lorem.sentence()\n",
    "p = lorem.paragraph()\n",
    "t = lorem.text()\n",
    "\n",
    "print s"
   ]
  }
 ],
 "metadata": {
  "kernelspec": {
   "display_name": "Python 2",
   "language": "python",
   "name": "python2"
  },
  "language_info": {
   "codemirror_mode": {
    "name": "ipython",
    "version": 2
   },
   "file_extension": ".py",
   "mimetype": "text/x-python",
   "name": "python",
   "nbconvert_exporter": "python",
   "pygments_lexer": "ipython2",
   "version": "2.7.12"
  }
 },
 "nbformat": 4,
 "nbformat_minor": 2
}
